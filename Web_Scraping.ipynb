{
  "nbformat": 4,
  "nbformat_minor": 0,
  "metadata": {
    "colab": {
      "provenance": []
    },
    "kernelspec": {
      "name": "python3",
      "display_name": "Python 3"
    },
    "language_info": {
      "name": "python"
    }
  },
  "cells": [
    {
      "cell_type": "code",
      "source": [
        "import os\n",
        "import requests\n",
        "from bs4 import BeautifulSoup\n",
        "\n",
        "url_base = \"https://\"Insira-o-link-do-site-aqui\"/\"\n",
        "\n",
        "# Nome do arquivo de entrada (consultas) e arquivo de saída (resultados)\n",
        "input_filename = \"DscProduto.txt\"\n",
        "output_filename = \"resultados.txt\"\n",
        "processed_queries_filename = \"consultas_ja_realizadas.txt\"  # Arquivo para consultas já processadas\n",
        "error_filename = \"consultas-erro-codificacao.txt\"  # Arquivo para consultas com erro de codificação\n",
        "\n",
        "# Verifique se o arquivo de entrada existe\n",
        "if not os.path.isfile(input_filename):\n",
        "    print(f\"Arquivo de entrada '{input_filename}' não encontrado.\")\n",
        "    exit(1)\n",
        "\n",
        "# Crie um conjunto para manter o controle das consultas já realizadas\n",
        "consultas_ja_realizadas = set()\n",
        "\n",
        "# Crie os arquivos de consultas já realizadas e consultas com erro de codificação se eles não existirem\n",
        "if not os.path.isfile(processed_queries_filename):\n",
        "    open(processed_queries_filename, \"w\").close()\n",
        "\n",
        "if not os.path.isfile(error_filename):\n",
        "    open(error_filename, \"w\").close()\n",
        "\n",
        "# Carregue as consultas já realizadas a partir do arquivo, se existir\n",
        "if os.path.isfile(processed_queries_filename):\n",
        "    with open(processed_queries_filename, \"r\") as processed_queries_file:\n",
        "        consultas_ja_realizadas = set(line.strip() for line in processed_queries_file)\n",
        "\n",
        "# Abra o arquivo de resultados fora do loop para evitar a sobrescrição\n",
        "with open(output_filename, \"a\") as output_file:\n",
        "    # Abra o arquivo de consultas para leitura\n",
        "    with open(input_filename, \"r\") as input_file:\n",
        "        # Coletar resultados dos títulos e preços limitando resultados especificamente por consulta\n",
        "        for query in input_file:\n",
        "            query = query.strip()  # remove espaços em branco e quebras de linha\n",
        "\n",
        "            # Verifique se a consulta já foi processada\n",
        "            if not query:\n",
        "                continue  # Pule consultas em branco\n",
        "\n",
        "            # Verifique se a consulta já foi processada\n",
        "            if query in consultas_ja_realizadas:\n",
        "                continue  # Pule consultas já processadas\n",
        "\n",
        "            try:\n",
        "                soup = BeautifulSoup(requests.get(url_base + query).content, \"html.parser\")\n",
        "\n",
        "                count = 0  # Variável de contagem para limitar os resultados\n",
        "\n",
        "                while True:\n",
        "                    for tag_title, tag_price in zip(soup.select(\".ui-search-item__title\"), soup.select(\"span.andes-money-amount\")):\n",
        "                        count += 1\n",
        "                        result = f\"Item {count}\\nTitulo: {tag_title.text}\\nPreço: {tag_price.text}\"\n",
        "                        output_file.write(result + \"\\n\\n\")  # Adicione o resultado ao arquivo de resultados\n",
        "\n",
        "                        if count >= 3:   # Encerra o loop após atingir o número de resultados especificados\n",
        "                            break\n",
        "\n",
        "                    if count >= 3:\n",
        "                        break\n",
        "\n",
        "                    next_link = soup.select_one(\"a.andes-pagination__link:-soup-contains(Seguinte)\")\n",
        "                    if not next_link:\n",
        "                        break\n",
        "\n",
        "                    soup = BeautifulSoup(requests.get(next_link[\"href\"]).content, \"html.parser\")\n",
        "\n",
        "                # Registre a consulta como processada no conjunto de consultas já realizadas\n",
        "                consultas_ja_realizadas.add(query)\n",
        "\n",
        "                # Escreva imediatamente a consulta no arquivo de consultas já realizadas\n",
        "                with open(processed_queries_filename, \"a\") as processed_queries_file:\n",
        "                    processed_queries_file.write(query + \"\\n\")\n",
        "\n",
        "            except UnicodeDecodeError:\n",
        "                print(f\"Erro de decodificação para a consulta: {query.strip()}\")\n",
        "                with open(error_filename, \"a\") as error_file:\n",
        "                    error_file.write(query + \"\\n\")  # Salve a consulta com erro de codificação no arquivo de erros\n",
        "                continue  # Pule esta consulta e continue com a próxima\n",
        "\n",
        "            except requests.RequestException as e:\n",
        "                print(f\"Erro na consulta: {query.strip()}\")\n",
        "                print(f\"Detalhes do erro: {str(e)}\")\n",
        "\n",
        "print(f\"Resultados adicionados a '{output_filename}'.\")\n"
      ],
      "metadata": {
        "id": "UbLGmcnZfRPm",
        "colab": {
          "base_uri": "https://localhost:8080/"
        },
        "outputId": "b1a78991-f12d-4fff-c049-3085ae6f1b44"
      },
      "execution_count": null,
      "outputs": [
        {
          "output_type": "stream",
          "name": "stdout",
          "text": [
            "Resultados adicionados a 'resultados.txt'.\n"
          ]
        }
      ]
    }
  ]
}